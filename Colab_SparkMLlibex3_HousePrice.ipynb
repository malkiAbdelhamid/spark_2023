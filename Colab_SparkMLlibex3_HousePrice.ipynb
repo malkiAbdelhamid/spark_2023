{
 "cells": [
  {
   "cell_type": "markdown",
   "metadata": {
    "id": "d_4AzPOBsqEy"
   },
   "source": [
    "## Installation de spark-cluster & findspark, pyspark \n"
   ]
  },
  {
   "cell_type": "code",
   "execution_count": 1,
   "metadata": {
    "colab": {
     "base_uri": "https://localhost:8080/"
    },
    "id": "VdSJQTI8sqE1",
    "outputId": "7da2f8fa-3d19-4c74-b531-32061ea52f19"
   },
   "outputs": [
    {
     "name": "stdout",
     "output_type": "stream",
     "text": [
      "Collecting pyspark\n",
      "  Downloading pyspark-3.2.0.tar.gz (281.3 MB)\n",
      "\u001b[K     |████████████████████████████████| 281.3 MB 38 kB/s \n",
      "\u001b[?25hCollecting py4j==0.10.9.2\n",
      "  Downloading py4j-0.10.9.2-py2.py3-none-any.whl (198 kB)\n",
      "\u001b[K     |████████████████████████████████| 198 kB 32.9 MB/s \n",
      "\u001b[?25hBuilding wheels for collected packages: pyspark\n",
      "  Building wheel for pyspark (setup.py) ... \u001b[?25l\u001b[?25hdone\n",
      "  Created wheel for pyspark: filename=pyspark-3.2.0-py2.py3-none-any.whl size=281805912 sha256=b6aff7b64612d2bb0cdcb8b4fded2d112c5996070ab9400f62bcd4d3ce8aa1e4\n",
      "  Stored in directory: /root/.cache/pip/wheels/0b/de/d2/9be5d59d7331c6c2a7c1b6d1a4f463ce107332b1ecd4e80718\n",
      "Successfully built pyspark\n",
      "Installing collected packages: py4j, pyspark\n",
      "Successfully installed py4j-0.10.9.2 pyspark-3.2.0\n"
     ]
    }
   ],
   "source": [
    "# innstall java\n",
    "!apt-get install openjdk-8-jdk-headless -qq > /dev/null\n",
    "\n",
    "# install spark (change the version number if needed)\n",
    "!wget -q http://archive.apache.org/dist/spark/spark-3.1.1/spark-3.1.1-bin-hadoop3.2.tgz\n",
    "\n",
    "# unzip the spark file to the current folder\n",
    "!tar xf spark-3.1.1-bin-hadoop3.2.tgz\n",
    "\n",
    "# set your spark folder to your system path environment. \n",
    "import os\n",
    "os.environ[\"JAVA_HOME\"] = \"/usr/lib/jvm/java-8-openjdk-amd64\"\n",
    "os.environ[\"SPARK_HOME\"] = \"/content/spark-3.1.1-bin-hadoop3.2\"\n",
    "\n",
    "\n",
    "# install findspark using pip\n",
    "!pip install -q findspark\n",
    "\n",
    "# install pyspark\n",
    "!pip install pyspark"
   ]
  },
  {
   "cell_type": "markdown",
   "metadata": {
    "id": "2och39MfsqE2"
   },
   "source": [
    "# importation et initialisation de Spark"
   ]
  },
  {
   "cell_type": "code",
   "execution_count": 2,
   "metadata": {
    "id": "L6GwZ38hsqE3"
   },
   "outputs": [],
   "source": [
    "import findspark \n",
    "findspark.init()"
   ]
  },
  {
   "cell_type": "code",
   "execution_count": 3,
   "metadata": {
    "id": "v_UD_9GVsqE3"
   },
   "outputs": [],
   "source": [
    "from pyspark.sql import SparkSession\n",
    "from pyspark.ml.feature import VectorAssembler,VectorIndexer\n",
    "from pyspark.ml.feature import VectorAssembler\n",
    "from pyspark.ml.regression import LinearRegression\n",
    "from pyspark.ml.evaluation import RegressionEvaluator\n",
    "\n",
    "session =SparkSession.builder.master(\"local\").appName(\"FirstApp\").getOrCreate() \n"
   ]
  },
  {
   "cell_type": "markdown",
   "metadata": {
    "id": "b3kcRlMhsqE4"
   },
   "source": [
    "### charger le dataset kc_house_data.csv  dans un dataFrame\n"
   ]
  },
  {
   "cell_type": "code",
   "execution_count": 4,
   "metadata": {
    "colab": {
     "base_uri": "https://localhost:8080/"
    },
    "id": "Hu7hJvUlsqE4",
    "outputId": "fa7f9b5e-3ed8-448c-a1cc-0f625262f312"
   },
   "outputs": [
    {
     "name": "stdout",
     "output_type": "stream",
     "text": [
      "+----------+---------------+--------+--------+---------+-----------+--------+------+----------+----+---------+-----+----------+-------------+--------+------------+-------+-------+--------+-------------+----------+\n",
      "|        id|           date|   price|bedrooms|bathrooms|sqft_living|sqft_lot|floors|waterfront|view|condition|grade|sqft_above|sqft_basement|yr_built|yr_renovated|zipcode|    lat|    long|sqft_living15|sqft_lot15|\n",
      "+----------+---------------+--------+--------+---------+-----------+--------+------+----------+----+---------+-----+----------+-------------+--------+------------+-------+-------+--------+-------------+----------+\n",
      "|7129300520|20141013T000000|221900.0|       3|      1.0|       1180|    5650|   1.0|         0|   0|        3|    7|      1180|            0|    1955|           0|  98178|47.5112|-122.257|         1340|      5650|\n",
      "|6414100192|20141209T000000|538000.0|       3|     2.25|       2570|    7242|   2.0|         0|   0|        3|    7|      2170|          400|    1951|        1991|  98125| 47.721|-122.319|         1690|      7639|\n",
      "|5631500400|20150225T000000|180000.0|       2|      1.0|        770|   10000|   1.0|         0|   0|        3|    6|       770|            0|    1933|           0|  98028|47.7379|-122.233|         2720|      8062|\n",
      "|2487200875|20141209T000000|604000.0|       4|      3.0|       1960|    5000|   1.0|         0|   0|        5|    7|      1050|          910|    1965|           0|  98136|47.5208|-122.393|         1360|      5000|\n",
      "|1954400510|20150218T000000|510000.0|       3|      2.0|       1680|    8080|   1.0|         0|   0|        3|    8|      1680|            0|    1987|           0|  98074|47.6168|-122.045|         1800|      7503|\n",
      "+----------+---------------+--------+--------+---------+-----------+--------+------+----------+----+---------+-----+----------+-------------+--------+------------+-------+-------+--------+-------------+----------+\n",
      "only showing top 5 rows\n",
      "\n"
     ]
    }
   ],
   "source": [
    "HPrice_df = session.read.csv('kc_house_data.csv', header=True, inferSchema=True) \n",
    "HPrice_df.show(5)"
   ]
  },
  {
   "cell_type": "markdown",
   "metadata": {
    "id": "V5bB5lGEsqE5"
   },
   "source": [
    "### Préparer votre dataset  en gardant que : ['sqft_living','bedrooms','price']"
   ]
  },
  {
   "cell_type": "code",
   "execution_count": 5,
   "metadata": {
    "colab": {
     "base_uri": "https://localhost:8080/"
    },
    "id": "wiKD_fiIsqE6",
    "outputId": "527057e4-cfda-49af-ea98-03635074843e"
   },
   "outputs": [
    {
     "name": "stdout",
     "output_type": "stream",
     "text": [
      "+-----------+--------+---------+\n",
      "|sqft_living|bedrooms|    price|\n",
      "+-----------+--------+---------+\n",
      "|       1180|       3| 221900.0|\n",
      "|       2570|       3| 538000.0|\n",
      "|        770|       2| 180000.0|\n",
      "|       1960|       4| 604000.0|\n",
      "|       1680|       3| 510000.0|\n",
      "|       5420|       4|1225000.0|\n",
      "|       1715|       3| 257500.0|\n",
      "|       1060|       3| 291850.0|\n",
      "|       1780|       3| 229500.0|\n",
      "|       1890|       3| 323000.0|\n",
      "|       3560|       3| 662500.0|\n",
      "|       1160|       2| 468000.0|\n",
      "|       1430|       3| 310000.0|\n",
      "|       1370|       3| 400000.0|\n",
      "|       1810|       5| 530000.0|\n",
      "|       2950|       4| 650000.0|\n",
      "|       1890|       3| 395000.0|\n",
      "|       1600|       4| 485000.0|\n",
      "|       1200|       2| 189000.0|\n",
      "|       1250|       3| 230000.0|\n",
      "+-----------+--------+---------+\n",
      "only showing top 20 rows\n",
      "\n"
     ]
    }
   ],
   "source": [
    "new_dataset=HPrice_df.select('sqft_living','bedrooms','price')\n",
    "new_dataset.show()"
   ]
  },
  {
   "cell_type": "markdown",
   "metadata": {
    "id": "AHSCumSZsqE7"
   },
   "source": [
    "### utiliser VectorAssembler pour préparer votre dataset pour le training\n",
    "#### final_dataset contient que deux colonnes ['features', 'price']"
   ]
  },
  {
   "cell_type": "code",
   "execution_count": 6,
   "metadata": {
    "colab": {
     "base_uri": "https://localhost:8080/"
    },
    "id": "kWCvRbSOsqE7",
    "outputId": "279d02a0-8654-42b5-ab6e-87778303d4d7"
   },
   "outputs": [
    {
     "name": "stdout",
     "output_type": "stream",
     "text": [
      "+------------+--------+\n",
      "|  Myfeatures|   price|\n",
      "+------------+--------+\n",
      "|[1180.0,3.0]|221900.0|\n",
      "|[2570.0,3.0]|538000.0|\n",
      "| [770.0,2.0]|180000.0|\n",
      "|[1960.0,4.0]|604000.0|\n",
      "|[1680.0,3.0]|510000.0|\n",
      "+------------+--------+\n",
      "only showing top 5 rows\n",
      "\n"
     ]
    }
   ],
   "source": [
    "features = new_dataset.drop('price').columns\n",
    "\n",
    "assembler = VectorAssembler( inputCols=features,outputCol=\"Myfeatures\")\n",
    "\n",
    "final_dataset= assembler.transform(new_dataset).select('Myfeatures','price')\n",
    "\n",
    "final_dataset.show(5)"
   ]
  },
  {
   "cell_type": "markdown",
   "metadata": {
    "id": "by4dHPJ-sqE8"
   },
   "source": [
    "### split sur le dataset pour créer le training_set et le test_set"
   ]
  },
  {
   "cell_type": "code",
   "execution_count": 7,
   "metadata": {
    "colab": {
     "base_uri": "https://localhost:8080/"
    },
    "id": "NPW3oT8msqE8",
    "outputId": "8c363e50-382e-4ec2-c492-7e5bc69f375c"
   },
   "outputs": [
    {
     "name": "stdout",
     "output_type": "stream",
     "text": [
      "+-----------+--------+\n",
      "| Myfeatures|   price|\n",
      "+-----------+--------+\n",
      "|[290.0,0.0]|142000.0|\n",
      "|[370.0,1.0]|276000.0|\n",
      "|[380.0,1.0]|245000.0|\n",
      "|[384.0,0.0]|265000.0|\n",
      "|[390.0,0.0]|228000.0|\n",
      "+-----------+--------+\n",
      "only showing top 5 rows\n",
      "\n",
      "+-----------+--------+\n",
      "| Myfeatures|   price|\n",
      "+-----------+--------+\n",
      "|[440.0,2.0]|290000.0|\n",
      "|[480.0,1.0]|145000.0|\n",
      "|[520.0,2.0]| 82500.0|\n",
      "|[520.0,2.0]|330000.0|\n",
      "|[550.0,2.0]|115000.0|\n",
      "+-----------+--------+\n",
      "only showing top 5 rows\n",
      "\n"
     ]
    }
   ],
   "source": [
    "train_df,test_df = final_dataset.randomSplit([0.8, 0.2])\n",
    "train_df.show(5)\n",
    "test_df.show(5)"
   ]
  },
  {
   "cell_type": "markdown",
   "metadata": {
    "id": "h5N4wjjtsqE9"
   },
   "source": [
    "### le training d'un modèle de regression sur le train_df"
   ]
  },
  {
   "cell_type": "code",
   "execution_count": 11,
   "metadata": {
    "id": "T4TZwHLxsqE9"
   },
   "outputs": [],
   "source": [
    "lin_reg = LinearRegression(featuresCol = 'Myfeatures', labelCol='price',regParam=1.23e2, elasticNetParam=0.2)\n",
    "linear_model = lin_reg.fit(train_df)"
   ]
  },
  {
   "cell_type": "markdown",
   "metadata": {
    "id": "H7D2wckzsqE9"
   },
   "source": [
    "### Afficher les coefficients du modèle"
   ]
  },
  {
   "cell_type": "code",
   "execution_count": 12,
   "metadata": {
    "colab": {
     "base_uri": "https://localhost:8080/"
    },
    "id": "ChYjDSGGsqE-",
    "outputId": "3e0e891d-1235-4edd-a89a-c26dea6d8360"
   },
   "outputs": [
    {
     "name": "stdout",
     "output_type": "stream",
     "text": [
      "Coefficients: [314.90841507308033,-57481.31934675883]\n",
      "Intercept: 80247.91969720647\n"
     ]
    }
   ],
   "source": [
    "print(\"Coefficients: \" + str(linear_model.coefficients))\n",
    "print(\"Intercept: \" + str(linear_model.intercept))"
   ]
  },
  {
   "cell_type": "markdown",
   "metadata": {
    "id": "nYUTOeg2sqE-"
   },
   "source": [
    "### Evaluation du modèle"
   ]
  },
  {
   "cell_type": "code",
   "execution_count": 13,
   "metadata": {
    "colab": {
     "base_uri": "https://localhost:8080/"
    },
    "id": "BspuMPfMsqE_",
    "outputId": "50947ee1-1df4-4225-974e-3bc41358a766"
   },
   "outputs": [
    {
     "name": "stdout",
     "output_type": "stream",
     "text": [
      "R Squared (R2) on train data  0.5017256690643183\n",
      "R Squared (R2) on test data  0.5286201090774463\n",
      "Root Mean Squared Error (RMSE) on train data=  261772.2003290766\n",
      "Root Mean Squared Error (RMSE) on test data=  241772.92679543578\n"
     ]
    }
   ],
   "source": [
    "\n",
    "print(\"R Squared (R2) on train data \", linear_model.evaluate(train_df).r2)\n",
    "print(\"R Squared (R2) on test data \", linear_model.evaluate(test_df).r2)\n",
    "\n",
    "print(\"Root Mean Squared Error (RMSE) on train data= \",linear_model.evaluate(train_df).rootMeanSquaredError)\n",
    "print(\"Root Mean Squared Error (RMSE) on test data= \",linear_model.evaluate(test_df).rootMeanSquaredError)"
   ]
  },
  {
   "cell_type": "markdown",
   "metadata": {
    "id": "ryH3WNwvsqE_"
   },
   "source": [
    "### Prédiction sur le test_df"
   ]
  },
  {
   "cell_type": "code",
   "execution_count": 15,
   "metadata": {
    "colab": {
     "base_uri": "https://localhost:8080/"
    },
    "id": "-7PefUmKsqFA",
    "outputId": "a69735d7-fcc1-4754-caa2-67fddb8ca54b"
   },
   "outputs": [
    {
     "name": "stdout",
     "output_type": "stream",
     "text": [
      "+------------------+--------+-----------+\n",
      "|        prediction|   price| Myfeatures|\n",
      "+------------------+--------+-----------+\n",
      "|103844.98363584417|290000.0|[440.0,2.0]|\n",
      "| 173922.6395855262|145000.0|[480.0,1.0]|\n",
      "| 129037.6568416906| 82500.0|[520.0,2.0]|\n",
      "| 129037.6568416906|330000.0|[520.0,2.0]|\n",
      "|138484.90929388299|115000.0|[550.0,2.0]|\n",
      "| 141633.9934446138|249900.0|[560.0,2.0]|\n",
      "| 147932.1617460754|220000.0|[580.0,2.0]|\n",
      "|154230.33004753702|135000.0|[600.0,2.0]|\n",
      "|218009.81769575743|244900.0|[620.0,1.0]|\n",
      "| 160528.4983489986|265000.0|[620.0,2.0]|\n",
      "+------------------+--------+-----------+\n",
      "only showing top 10 rows\n",
      "\n"
     ]
    }
   ],
   "source": [
    "predictions = linear_model.transform(test_df)\n",
    "predictions.select(\"prediction\",\"price\",\"Myfeatures\").show(10)"
   ]
  },
  {
   "cell_type": "markdown",
   "metadata": {
    "id": "girhuvD-sqFA"
   },
   "source": [
    "### la Prédiction du prix de vente  d'une nouvelle maison"
   ]
  },
  {
   "cell_type": "code",
   "execution_count": 17,
   "metadata": {
    "colab": {
     "base_uri": "https://localhost:8080/"
    },
    "id": "zDUt-LrxsqFA",
    "outputId": "8a3e48ad-56e5-4768-f5ac-bff49d4be411"
   },
   "outputs": [
    {
     "name": "stdout",
     "output_type": "stream",
     "text": [
      "+-----------+--------+\n",
      "|sqft_living|bedrooms|\n",
      "+-----------+--------+\n",
      "|       1000|       3|\n",
      "+-----------+--------+\n",
      "\n",
      "+------------+\n",
      "|  Myfeatures|\n",
      "+------------+\n",
      "|[1000.0,3.0]|\n",
      "+------------+\n",
      "\n",
      "+------------+------------------+\n",
      "|  Myfeatures|        prediction|\n",
      "+------------+------------------+\n",
      "|[1000.0,3.0]|222712.37673001032|\n",
      "+------------+------------------+\n",
      "\n"
     ]
    }
   ],
   "source": [
    "new_house = session.sql(\"select 1000 as sqft_living, 3 as bedrooms\")\n",
    "new_house.show()\n",
    "new_house=assembler.transform(new_house).select('Myfeatures')\n",
    "new_house.show()\n",
    "predictions = linear_model.transform(new_house)\n",
    "predictions.select(\"Myfeatures\",\"prediction\").show()"
   ]
  }
 ],
 "metadata": {
  "colab": {
   "collapsed_sections": [],
   "name": "Colab_SparkMLlibex3_HousePrice.ipynb",
   "provenance": []
  },
  "kernelspec": {
   "display_name": "Python 3 (ipykernel)",
   "language": "python",
   "name": "python3"
  },
  "language_info": {
   "codemirror_mode": {
    "name": "ipython",
    "version": 3
   },
   "file_extension": ".py",
   "mimetype": "text/x-python",
   "name": "python",
   "nbconvert_exporter": "python",
   "pygments_lexer": "ipython3",
   "version": "3.7.4"
  }
 },
 "nbformat": 4,
 "nbformat_minor": 1
}
