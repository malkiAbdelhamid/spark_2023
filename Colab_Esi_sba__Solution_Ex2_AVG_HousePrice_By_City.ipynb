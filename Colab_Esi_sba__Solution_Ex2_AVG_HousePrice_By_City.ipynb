{
  "cells": [
    {
      "cell_type": "markdown",
      "metadata": {
        "id": "UOt6DH2M_z4M"
      },
      "source": [
        "## Installation de spark-cluster & findspark, pyspark "
      ]
    },
    {
      "cell_type": "code",
      "execution_count": 6,
      "metadata": {
        "colab": {
          "base_uri": "https://localhost:8080/"
        },
        "id": "0Fc3E5Ok_z4T",
        "outputId": "1ea244d0-4b40-4ca2-f4ff-7f90795504a7"
      },
      "outputs": [
        {
          "output_type": "stream",
          "name": "stdout",
          "text": [
            "Looking in indexes: https://pypi.org/simple, https://us-python.pkg.dev/colab-wheels/public/simple/\n",
            "Requirement already satisfied: pyspark in /usr/local/lib/python3.7/dist-packages (3.3.1)\n",
            "Requirement already satisfied: py4j==0.10.9.5 in /usr/local/lib/python3.7/dist-packages (from pyspark) (0.10.9.5)\n"
          ]
        }
      ],
      "source": [
        "# innstall java\n",
        "!apt-get install openjdk-8-jdk-headless -qq > /dev/null\n",
        "\n",
        "# install spark (change the version number if needed)\n",
        "!wget -q http://archive.apache.org/dist/spark/spark-3.1.1/spark-3.1.1-bin-hadoop3.2.tgz\n",
        "\n",
        "# unzip the spark file to the current folder\n",
        "!tar xf spark-3.1.1-bin-hadoop3.2.tgz\n",
        "\n",
        "# set your spark folder to your system path environment. \n",
        "import os\n",
        "os.environ[\"JAVA_HOME\"] = \"/usr/lib/jvm/java-8-openjdk-amd64\"\n",
        "os.environ[\"SPARK_HOME\"] = \"/content/spark-3.1.1-bin-hadoop3.2\"\n",
        "\n",
        "\n",
        "# install findspark using pip\n",
        "!pip install -q findspark\n",
        "\n",
        "# install pyspark\n",
        "!pip install pyspark"
      ]
    },
    {
      "cell_type": "code",
      "execution_count": null,
      "metadata": {
        "id": "8wovru6y_z4X"
      },
      "outputs": [],
      "source": [
        "import findspark \n",
        "findspark.init()\n",
        "from pyspark import SparkContext, SparkConf\n",
        "conf = SparkConf().setAppName(\"actions\").setMaster(\"local[4]\")\n",
        "sc = SparkContext(conf = conf)"
      ]
    },
    {
      "cell_type": "code",
      "execution_count": 27,
      "metadata": {
        "id": "AcS6wEH2_z4Z"
      },
      "outputs": [],
      "source": [
        "#Charger le dataset HousePrice.csv\n",
        "#nettoyer le dataset en supprimant Heander\n",
        "\n",
        "lines = sc.textFile(\"HousePrice.csv\")\n",
        "cleanedLines = lines.filter(lambda line: \"date\" not in line)"
      ]
    },
    {
      "cell_type": "code",
      "execution_count": 28,
      "metadata": {
        "id": "3tDOwIMb_z4a"
      },
      "outputs": [],
      "source": [
        "# récupérer le price(position 1) et la city (position 15)\n",
        "\n",
        "City_Price_Rdd=cleanedLines.map(lambda line: (line.split(\",\")[15], float(line.split(\",\")[1])))\n",
        "\n",
        "City_HouseNB_Rdd=cleanedLines.map(lambda line: (line.split(\",\")[15], 1))\n"
      ]
    },
    {
      "cell_type": "code",
      "execution_count": 30,
      "metadata": {
        "colab": {
          "base_uri": "https://localhost:8080/"
        },
        "id": "3gPmjI43_z4b",
        "outputId": "e0f984f9-3e8c-4761-8183-2e3e53a9a177"
      },
      "outputs": [
        {
          "output_type": "execute_result",
          "data": {
            "text/plain": [
              "[('Seattle', 579837.4672823235),\n",
              " ('Redmond', 667649.5347812298),\n",
              " ('Maple Valley', 336474.9118055521),\n",
              " ('North Bend', 399565.70666666003),\n",
              " ('Sammamish', 686917.5835323657),\n",
              " ('Auburn', 299340.44276556815),\n",
              " ('Bothell', 481441.8939393939),\n",
              " ('Federal Way', 289887.70398969593),\n",
              " ('Kirkland', 651583.5919080963),\n",
              " ('Woodinville', 609565.0217391305),\n",
              " ('Normandy Park', 506793.05555555556),\n",
              " ('Renton', 377040.96632902045),\n",
              " ('Duvall', 403994.12698411907),\n",
              " ('Kenmore', 447494.0404040303),\n",
              " ('Mercer Island', 1123817.6201550348),\n",
              " ('Black Diamond', 339605.55555555556),\n",
              " ('Ravensdale', 514071.4285714286),\n",
              " ('Algona', 207288.0),\n",
              " ('Tukwila', 308290.0689655172),\n",
              " ('Vashon', 472556.8965517241),\n",
              " ('Yarrow Point', 1194837.5),\n",
              " ('SeaTac', 245290.62068965516),\n",
              " ('Medina', 2046559.0909090908),\n",
              " ('Enumclaw', 307614.58333332144),\n",
              " ('Pacific', 225233.33333333334),\n",
              " ('Preston', 562450.0),\n",
              " ('Shoreline', 420392.3640469756),\n",
              " ('Kent', 439492.44464821625),\n",
              " ('Bellevue', 847180.6629953358),\n",
              " ('Lake Forest Park', 448475.0),\n",
              " ('Des Moines', 304992.54679803445),\n",
              " ('Issaquah', 596163.7474747486),\n",
              " ('Fall City', 692681.8181818182),\n",
              " ('Carnation', 508751.95454545453),\n",
              " ('Snoqualmie', 536305.2957746478),\n",
              " ('Burien', 348947.2484985),\n",
              " ('Covington', 296230.39867109305),\n",
              " ('Inglewood-Finn Hill', 425000.0),\n",
              " ('Newcastle', 666046.696969697),\n",
              " ('Clyde Hill', 1321945.4545454546),\n",
              " ('Skykomish', 233000.0),\n",
              " ('Snoqualmie Pass', 525000.0),\n",
              " ('Beaux Arts Village', 745000.0),\n",
              " ('Milton', 285000.0)]"
            ]
          },
          "metadata": {},
          "execution_count": 30
        }
      ],
      "source": [
        "# calculer le prix moyen pour chaque city\n",
        "# utilisation les trabsformation union avec reduceByKey\n",
        "\n",
        "City_Price_Total_Rdd=City_Price_Rdd.reduceByKey(lambda x,y: x+y)\n",
        "City_HouseNB_Total_Rdd=City_HouseNB_Rdd.reduceByKey(lambda x,y: x+y)\n",
        "\n",
        "AVG_By_City=City_Price_Total_Rdd.union(City_HouseNB_Total_Rdd).reduceByKey(lambda x,y: x/y)\n",
        "\n",
        "AVG_By_City.collect()"
      ]
    },
    {
      "cell_type": "code",
      "source": [
        "# Pour charque ville la surface moyenne (sqft_living) des maisons [4]\n",
        "# utiliser la transformation join()\n",
        "\n",
        "City_sqft_Rdd=cleanedLines.map(lambda line: (line.split(\",\")[15], float(line.split(\",\")[4])))\n",
        "City_sqft_Total_Rdd=City_sqft_Rdd.reduceByKey(lambda x,y: x+y)\n",
        "\n",
        "joinResult2=City_sqft_Total_Rdd.join(City_HouseNB_Total_Rdd)\n",
        "\n",
        "def f(x): \n",
        "   sumBed=x[0]\n",
        "   nb=x[1]\n",
        "   return sumBed/nb\n",
        "   \n",
        "AVG_City_bed=joinResult2.mapValues(lambda x:f(x))\n",
        "AVG_City_bed.collect()\n",
        "\n"
      ],
      "metadata": {
        "colab": {
          "base_uri": "https://localhost:8080/"
        },
        "id": "CoJwck3KOwYj",
        "outputId": "3aa4b4cc-e7ef-4763-db35-a8a8f7e2736a"
      },
      "execution_count": 34,
      "outputs": [
        {
          "output_type": "execute_result",
          "data": {
            "text/plain": [
              "[('Seattle', 1828.6236490781946),\n",
              " ('Redmond', 2491.7617021276596),\n",
              " ('Maple Valley', 2086.0416666666665),\n",
              " ('North Bend', 1995.4),\n",
              " ('Sammamish', 2830.12),\n",
              " ('Auburn', 2019.5795454545455),\n",
              " ('Bothell', 2319.3939393939395),\n",
              " ('Federal Way', 2054.114864864865),\n",
              " ('Kirkland', 2259.48128342246),\n",
              " ('Woodinville', 2663.008695652174),\n",
              " ('Normandy Park', 2093.277777777778),\n",
              " ('Renton', 2114.7610921501705),\n",
              " ('Duvall', 2161.5476190476193),\n",
              " ('Kenmore', 2110.530303030303),\n",
              " ('Mercer Island', 3275.313953488372),\n",
              " ('Black Diamond', 1863.3333333333333),\n",
              " ('Ravensdale', 2612.8571428571427),\n",
              " ('Algona', 1608.6),\n",
              " ('Tukwila', 1706.2068965517242),\n",
              " ('Vashon', 1889.6896551724137),\n",
              " ('Yarrow Point', 2472.5),\n",
              " ('SeaTac', 1678.5172413793102),\n",
              " ('Medina', 4103.636363636364),\n",
              " ('Enumclaw', 1922.5),\n",
              " ('Pacific', 1520.8333333333333),\n",
              " ('Preston', 2280.0),\n",
              " ('Shoreline', 1774.8373983739837),\n",
              " ('Kent', 1981.2702702702702),\n",
              " ('Bellevue', 2694.527972027972),\n",
              " ('Lake Forest Park', 2283.0555555555557),\n",
              " ('Des Moines', 1812.6206896551723),\n",
              " ('Issaquah', 2458.8449197860964),\n",
              " ('Fall City', 2865.909090909091),\n",
              " ('Carnation', 2392.4545454545455),\n",
              " ('Snoqualmie', 2716.056338028169),\n",
              " ('Burien', 1815.337837837838),\n",
              " ('Covington', 1792.5581395348838),\n",
              " ('Inglewood-Finn Hill', 1520.0),\n",
              " ('Newcastle', 2689.090909090909),\n",
              " ('Clyde Hill', 3620.909090909091),\n",
              " ('Skykomish', 1356.6666666666667),\n",
              " ('Snoqualmie Pass', 2100.0),\n",
              " ('Beaux Arts Village', 1490.0),\n",
              " ('Milton', 1255.0)]"
            ]
          },
          "metadata": {},
          "execution_count": 34
        }
      ]
    }
  ],
  "metadata": {
    "kernelspec": {
      "display_name": "Python 3 (ipykernel)",
      "language": "python",
      "name": "python3"
    },
    "language_info": {
      "codemirror_mode": {
        "name": "ipython",
        "version": 3
      },
      "file_extension": ".py",
      "mimetype": "text/x-python",
      "name": "python",
      "nbconvert_exporter": "python",
      "pygments_lexer": "ipython3",
      "version": "3.7.4"
    },
    "colab": {
      "provenance": [],
      "collapsed_sections": []
    }
  },
  "nbformat": 4,
  "nbformat_minor": 0
}